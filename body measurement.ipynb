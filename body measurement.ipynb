{
 "cells": [
  {
   "cell_type": "markdown",
   "metadata": {},
   "source": [
    "# AIM: EDA ALONG WITH PREDICTING THE AGE.  "
   ]
  },
  {
   "cell_type": "code",
   "execution_count": 1,
   "metadata": {},
   "outputs": [],
   "source": [
    "import pandas as pd, numpy as np, seaborn as sns, matplotlib.pyplot as plt \n",
    "import warnings\n",
    "warnings.filterwarnings('ignore')"
   ]
  },
  {
   "cell_type": "code",
   "execution_count": 2,
   "metadata": {},
   "outputs": [],
   "source": [
    "data= pd.read_csv('C:/Users/me/Desktop/pyt/kaggle/body measurement/Body Measurements _ original_CSV.csv')"
   ]
  },
  {
   "cell_type": "markdown",
   "metadata": {},
   "source": [
    "## EXPLORING THE DATA"
   ]
  },
  {
   "cell_type": "code",
   "execution_count": 3,
   "metadata": {},
   "outputs": [
    {
     "data": {
      "text/html": [
       "<div>\n",
       "<style scoped>\n",
       "    .dataframe tbody tr th:only-of-type {\n",
       "        vertical-align: middle;\n",
       "    }\n",
       "\n",
       "    .dataframe tbody tr th {\n",
       "        vertical-align: top;\n",
       "    }\n",
       "\n",
       "    .dataframe thead th {\n",
       "        text-align: right;\n",
       "    }\n",
       "</style>\n",
       "<table border=\"1\" class=\"dataframe\">\n",
       "  <thead>\n",
       "    <tr style=\"text-align: right;\">\n",
       "      <th></th>\n",
       "      <th>0</th>\n",
       "      <th>1</th>\n",
       "      <th>2</th>\n",
       "      <th>3</th>\n",
       "      <th>4</th>\n",
       "    </tr>\n",
       "  </thead>\n",
       "  <tbody>\n",
       "    <tr>\n",
       "      <th>Gender</th>\n",
       "      <td>1.0</td>\n",
       "      <td>1.0</td>\n",
       "      <td>2.0</td>\n",
       "      <td>1.0</td>\n",
       "      <td>2.0</td>\n",
       "    </tr>\n",
       "    <tr>\n",
       "      <th>Age</th>\n",
       "      <td>30.0</td>\n",
       "      <td>28.0</td>\n",
       "      <td>27.0</td>\n",
       "      <td>29.0</td>\n",
       "      <td>28.0</td>\n",
       "    </tr>\n",
       "    <tr>\n",
       "      <th>HeadCircumference</th>\n",
       "      <td>22.0</td>\n",
       "      <td>19.0</td>\n",
       "      <td>21.0</td>\n",
       "      <td>20.0</td>\n",
       "      <td>16.0</td>\n",
       "    </tr>\n",
       "    <tr>\n",
       "      <th>ShoulderWidth</th>\n",
       "      <td>18.0</td>\n",
       "      <td>22.0</td>\n",
       "      <td>18.0</td>\n",
       "      <td>20.0</td>\n",
       "      <td>14.0</td>\n",
       "    </tr>\n",
       "    <tr>\n",
       "      <th>ChestWidth</th>\n",
       "      <td>20.0</td>\n",
       "      <td>17.0</td>\n",
       "      <td>16.0</td>\n",
       "      <td>18.0</td>\n",
       "      <td>18.0</td>\n",
       "    </tr>\n",
       "    <tr>\n",
       "      <th>Belly</th>\n",
       "      <td>18.0</td>\n",
       "      <td>18.0</td>\n",
       "      <td>14.0</td>\n",
       "      <td>11.0</td>\n",
       "      <td>13.0</td>\n",
       "    </tr>\n",
       "    <tr>\n",
       "      <th>Waist</th>\n",
       "      <td>14.0</td>\n",
       "      <td>21.0</td>\n",
       "      <td>10.0</td>\n",
       "      <td>19.0</td>\n",
       "      <td>11.0</td>\n",
       "    </tr>\n",
       "    <tr>\n",
       "      <th>Hips</th>\n",
       "      <td>22.0</td>\n",
       "      <td>25.0</td>\n",
       "      <td>15.0</td>\n",
       "      <td>14.0</td>\n",
       "      <td>30.0</td>\n",
       "    </tr>\n",
       "    <tr>\n",
       "      <th>ArmLength</th>\n",
       "      <td>22.0</td>\n",
       "      <td>28.0</td>\n",
       "      <td>21.0</td>\n",
       "      <td>24.0</td>\n",
       "      <td>25.0</td>\n",
       "    </tr>\n",
       "    <tr>\n",
       "      <th>ShoulderToWaist</th>\n",
       "      <td>25.0</td>\n",
       "      <td>23.0</td>\n",
       "      <td>18.0</td>\n",
       "      <td>21.0</td>\n",
       "      <td>22.0</td>\n",
       "    </tr>\n",
       "    <tr>\n",
       "      <th>WaistToKnee</th>\n",
       "      <td>25.0</td>\n",
       "      <td>25.0</td>\n",
       "      <td>14.0</td>\n",
       "      <td>20.0</td>\n",
       "      <td>32.0</td>\n",
       "    </tr>\n",
       "    <tr>\n",
       "      <th>LegLength</th>\n",
       "      <td>22.0</td>\n",
       "      <td>20.0</td>\n",
       "      <td>18.0</td>\n",
       "      <td>21.0</td>\n",
       "      <td>13.0</td>\n",
       "    </tr>\n",
       "    <tr>\n",
       "      <th>TotalHeight</th>\n",
       "      <td>52.0</td>\n",
       "      <td>56.0</td>\n",
       "      <td>53.0</td>\n",
       "      <td>45.0</td>\n",
       "      <td>47.0</td>\n",
       "    </tr>\n",
       "  </tbody>\n",
       "</table>\n",
       "</div>"
      ],
      "text/plain": [
       "                      0     1     2     3     4\n",
       "Gender              1.0   1.0   2.0   1.0   2.0\n",
       "Age                30.0  28.0  27.0  29.0  28.0\n",
       "HeadCircumference  22.0  19.0  21.0  20.0  16.0\n",
       "ShoulderWidth      18.0  22.0  18.0  20.0  14.0\n",
       "ChestWidth         20.0  17.0  16.0  18.0  18.0\n",
       "Belly              18.0  18.0  14.0  11.0  13.0\n",
       "Waist              14.0  21.0  10.0  19.0  11.0\n",
       "Hips               22.0  25.0  15.0  14.0  30.0\n",
       "ArmLength          22.0  28.0  21.0  24.0  25.0\n",
       "ShoulderToWaist    25.0  23.0  18.0  21.0  22.0\n",
       "WaistToKnee        25.0  25.0  14.0  20.0  32.0\n",
       "LegLength          22.0  20.0  18.0  21.0  13.0\n",
       "TotalHeight        52.0  56.0  53.0  45.0  47.0"
      ]
     },
     "execution_count": 3,
     "metadata": {},
     "output_type": "execute_result"
    }
   ],
   "source": [
    "data.head().T"
   ]
  },
  {
   "cell_type": "code",
   "execution_count": 4,
   "metadata": {},
   "outputs": [
    {
     "name": "stdout",
     "output_type": "stream",
     "text": [
      "<class 'pandas.core.frame.DataFrame'>\n",
      "RangeIndex: 716 entries, 0 to 715\n",
      "Data columns (total 13 columns):\n",
      "Gender               715 non-null float64\n",
      "Age                  716 non-null int64\n",
      "HeadCircumference    716 non-null int64\n",
      "ShoulderWidth        716 non-null int64\n",
      "ChestWidth           716 non-null int64\n",
      "Belly                716 non-null int64\n",
      "Waist                716 non-null int64\n",
      "Hips                 716 non-null int64\n",
      "ArmLength            716 non-null int64\n",
      "ShoulderToWaist      716 non-null int64\n",
      "WaistToKnee          716 non-null int64\n",
      "LegLength            716 non-null int64\n",
      "TotalHeight          716 non-null int64\n",
      "dtypes: float64(1), int64(12)\n",
      "memory usage: 72.8 KB\n"
     ]
    }
   ],
   "source": [
    "data.info()"
   ]
  },
  {
   "cell_type": "markdown",
   "metadata": {},
   "source": [
    "The 'GENDER' column has only one null value, so, we can remove it.\n",
    "\n",
    "First, we'll try to fine the row number of the Null Value."
   ]
  },
  {
   "cell_type": "markdown",
   "metadata": {},
   "source": [
    "## Dealing with missing data"
   ]
  },
  {
   "cell_type": "code",
   "execution_count": 5,
   "metadata": {},
   "outputs": [
    {
     "data": {
      "text/html": [
       "<div>\n",
       "<style scoped>\n",
       "    .dataframe tbody tr th:only-of-type {\n",
       "        vertical-align: middle;\n",
       "    }\n",
       "\n",
       "    .dataframe tbody tr th {\n",
       "        vertical-align: top;\n",
       "    }\n",
       "\n",
       "    .dataframe thead th {\n",
       "        text-align: right;\n",
       "    }\n",
       "</style>\n",
       "<table border=\"1\" class=\"dataframe\">\n",
       "  <thead>\n",
       "    <tr style=\"text-align: right;\">\n",
       "      <th></th>\n",
       "      <th>null_count</th>\n",
       "      <th>nan_count</th>\n",
       "      <th>empty_count</th>\n",
       "    </tr>\n",
       "  </thead>\n",
       "  <tbody>\n",
       "    <tr>\n",
       "      <th>Gender</th>\n",
       "      <td>1</td>\n",
       "      <td>0</td>\n",
       "      <td>0</td>\n",
       "    </tr>\n",
       "    <tr>\n",
       "      <th>Age</th>\n",
       "      <td>0</td>\n",
       "      <td>0</td>\n",
       "      <td>0</td>\n",
       "    </tr>\n",
       "    <tr>\n",
       "      <th>HeadCircumference</th>\n",
       "      <td>0</td>\n",
       "      <td>0</td>\n",
       "      <td>0</td>\n",
       "    </tr>\n",
       "    <tr>\n",
       "      <th>ShoulderWidth</th>\n",
       "      <td>0</td>\n",
       "      <td>0</td>\n",
       "      <td>0</td>\n",
       "    </tr>\n",
       "    <tr>\n",
       "      <th>ChestWidth</th>\n",
       "      <td>0</td>\n",
       "      <td>0</td>\n",
       "      <td>0</td>\n",
       "    </tr>\n",
       "    <tr>\n",
       "      <th>Belly</th>\n",
       "      <td>0</td>\n",
       "      <td>0</td>\n",
       "      <td>0</td>\n",
       "    </tr>\n",
       "    <tr>\n",
       "      <th>Waist</th>\n",
       "      <td>0</td>\n",
       "      <td>0</td>\n",
       "      <td>0</td>\n",
       "    </tr>\n",
       "    <tr>\n",
       "      <th>Hips</th>\n",
       "      <td>0</td>\n",
       "      <td>0</td>\n",
       "      <td>0</td>\n",
       "    </tr>\n",
       "    <tr>\n",
       "      <th>ArmLength</th>\n",
       "      <td>0</td>\n",
       "      <td>0</td>\n",
       "      <td>0</td>\n",
       "    </tr>\n",
       "    <tr>\n",
       "      <th>ShoulderToWaist</th>\n",
       "      <td>0</td>\n",
       "      <td>0</td>\n",
       "      <td>0</td>\n",
       "    </tr>\n",
       "    <tr>\n",
       "      <th>WaistToKnee</th>\n",
       "      <td>0</td>\n",
       "      <td>0</td>\n",
       "      <td>0</td>\n",
       "    </tr>\n",
       "    <tr>\n",
       "      <th>LegLength</th>\n",
       "      <td>0</td>\n",
       "      <td>0</td>\n",
       "      <td>0</td>\n",
       "    </tr>\n",
       "    <tr>\n",
       "      <th>TotalHeight</th>\n",
       "      <td>0</td>\n",
       "      <td>0</td>\n",
       "      <td>0</td>\n",
       "    </tr>\n",
       "  </tbody>\n",
       "</table>\n",
       "</div>"
      ],
      "text/plain": [
       "                   null_count  nan_count  empty_count\n",
       "Gender                      1          0            0\n",
       "Age                         0          0            0\n",
       "HeadCircumference           0          0            0\n",
       "ShoulderWidth               0          0            0\n",
       "ChestWidth                  0          0            0\n",
       "Belly                       0          0            0\n",
       "Waist                       0          0            0\n",
       "Hips                        0          0            0\n",
       "ArmLength                   0          0            0\n",
       "ShoulderToWaist             0          0            0\n",
       "WaistToKnee                 0          0            0\n",
       "LegLength                   0          0            0\n",
       "TotalHeight                 0          0            0"
      ]
     },
     "execution_count": 5,
     "metadata": {},
     "output_type": "execute_result"
    }
   ],
   "source": [
    "def count_missing_value(data):\n",
    "    null_count = data.isnull().sum()\n",
    "    nan_count = ((data== 'nan') | (data=='NaN') | (data=='Nan')).sum()\n",
    "    empty_count = ((data== ' ') | (data=='')).sum()\n",
    "    abc = pd.DataFrame({\n",
    "        'null_count' : null_count,\n",
    "        'nan_count' : nan_count,\n",
    "        'empty_count' : empty_count\n",
    "     })\n",
    "    \n",
    "    return abc\n",
    "count_missing_value(data)"
   ]
  },
  {
   "cell_type": "markdown",
   "metadata": {},
   "source": [
    "###  Finding the location of empty value"
   ]
  },
  {
   "cell_type": "code",
   "execution_count": 6,
   "metadata": {},
   "outputs": [
    {
     "name": "stdout",
     "output_type": "stream",
     "text": [
      "The empty row is : \n",
      "\n"
     ]
    },
    {
     "data": {
      "text/html": [
       "<div>\n",
       "<style scoped>\n",
       "    .dataframe tbody tr th:only-of-type {\n",
       "        vertical-align: middle;\n",
       "    }\n",
       "\n",
       "    .dataframe tbody tr th {\n",
       "        vertical-align: top;\n",
       "    }\n",
       "\n",
       "    .dataframe thead th {\n",
       "        text-align: right;\n",
       "    }\n",
       "</style>\n",
       "<table border=\"1\" class=\"dataframe\">\n",
       "  <thead>\n",
       "    <tr style=\"text-align: right;\">\n",
       "      <th></th>\n",
       "      <th>Gender</th>\n",
       "      <th>Age</th>\n",
       "      <th>HeadCircumference</th>\n",
       "      <th>ShoulderWidth</th>\n",
       "      <th>ChestWidth</th>\n",
       "      <th>Belly</th>\n",
       "      <th>Waist</th>\n",
       "      <th>Hips</th>\n",
       "      <th>ArmLength</th>\n",
       "      <th>ShoulderToWaist</th>\n",
       "      <th>WaistToKnee</th>\n",
       "      <th>LegLength</th>\n",
       "      <th>TotalHeight</th>\n",
       "    </tr>\n",
       "  </thead>\n",
       "  <tbody>\n",
       "    <tr>\n",
       "      <th>536</th>\n",
       "      <td>NaN</td>\n",
       "      <td>9</td>\n",
       "      <td>20</td>\n",
       "      <td>13</td>\n",
       "      <td>11</td>\n",
       "      <td>21</td>\n",
       "      <td>24</td>\n",
       "      <td>11</td>\n",
       "      <td>22</td>\n",
       "      <td>14</td>\n",
       "      <td>15</td>\n",
       "      <td>25</td>\n",
       "      <td>44</td>\n",
       "    </tr>\n",
       "  </tbody>\n",
       "</table>\n",
       "</div>"
      ],
      "text/plain": [
       "     Gender  Age  HeadCircumference  ShoulderWidth  ChestWidth   Belly   \\\n",
       "536     NaN    9                 20             13           11      21   \n",
       "\n",
       "     Waist   Hips   ArmLength   ShoulderToWaist   WaistToKnee   LegLength  \\\n",
       "536      24     11          22                14            15         25   \n",
       "\n",
       "     TotalHeight  \n",
       "536           44  "
      ]
     },
     "execution_count": 6,
     "metadata": {},
     "output_type": "execute_result"
    }
   ],
   "source": [
    "location= data.loc[data.Gender.isnull()]    \n",
    "print('The empty row is : \\n')\n",
    "location"
   ]
  },
  {
   "cell_type": "markdown",
   "metadata": {},
   "source": [
    "### Removing the row with empty value."
   ]
  },
  {
   "cell_type": "code",
   "execution_count": 7,
   "metadata": {},
   "outputs": [
    {
     "name": "stdout",
     "output_type": "stream",
     "text": [
      "<class 'pandas.core.frame.DataFrame'>\n",
      "Int64Index: 715 entries, 0 to 715\n",
      "Data columns (total 13 columns):\n",
      "Gender               715 non-null float64\n",
      "Age                  715 non-null int64\n",
      "HeadCircumference    715 non-null int64\n",
      "ShoulderWidth        715 non-null int64\n",
      "ChestWidth           715 non-null int64\n",
      "Belly                715 non-null int64\n",
      "Waist                715 non-null int64\n",
      "Hips                 715 non-null int64\n",
      "ArmLength            715 non-null int64\n",
      "ShoulderToWaist      715 non-null int64\n",
      "WaistToKnee          715 non-null int64\n",
      "LegLength            715 non-null int64\n",
      "TotalHeight          715 non-null int64\n",
      "dtypes: float64(1), int64(12)\n",
      "memory usage: 78.2 KB\n"
     ]
    }
   ],
   "source": [
    "data2= data.drop(labels=[536] ,axis=0)     \n",
    "data2.info()"
   ]
  },
  {
   "cell_type": "markdown",
   "metadata": {},
   "source": [
    "### Re-checking for missing values."
   ]
  },
  {
   "cell_type": "code",
   "execution_count": 8,
   "metadata": {},
   "outputs": [
    {
     "data": {
      "text/html": [
       "<div>\n",
       "<style scoped>\n",
       "    .dataframe tbody tr th:only-of-type {\n",
       "        vertical-align: middle;\n",
       "    }\n",
       "\n",
       "    .dataframe tbody tr th {\n",
       "        vertical-align: top;\n",
       "    }\n",
       "\n",
       "    .dataframe thead th {\n",
       "        text-align: right;\n",
       "    }\n",
       "</style>\n",
       "<table border=\"1\" class=\"dataframe\">\n",
       "  <thead>\n",
       "    <tr style=\"text-align: right;\">\n",
       "      <th></th>\n",
       "      <th>null_count</th>\n",
       "      <th>nan_count</th>\n",
       "      <th>empty_count</th>\n",
       "    </tr>\n",
       "  </thead>\n",
       "  <tbody>\n",
       "    <tr>\n",
       "      <th>Gender</th>\n",
       "      <td>0</td>\n",
       "      <td>0</td>\n",
       "      <td>0</td>\n",
       "    </tr>\n",
       "    <tr>\n",
       "      <th>Age</th>\n",
       "      <td>0</td>\n",
       "      <td>0</td>\n",
       "      <td>0</td>\n",
       "    </tr>\n",
       "    <tr>\n",
       "      <th>HeadCircumference</th>\n",
       "      <td>0</td>\n",
       "      <td>0</td>\n",
       "      <td>0</td>\n",
       "    </tr>\n",
       "    <tr>\n",
       "      <th>ShoulderWidth</th>\n",
       "      <td>0</td>\n",
       "      <td>0</td>\n",
       "      <td>0</td>\n",
       "    </tr>\n",
       "    <tr>\n",
       "      <th>ChestWidth</th>\n",
       "      <td>0</td>\n",
       "      <td>0</td>\n",
       "      <td>0</td>\n",
       "    </tr>\n",
       "    <tr>\n",
       "      <th>Belly</th>\n",
       "      <td>0</td>\n",
       "      <td>0</td>\n",
       "      <td>0</td>\n",
       "    </tr>\n",
       "    <tr>\n",
       "      <th>Waist</th>\n",
       "      <td>0</td>\n",
       "      <td>0</td>\n",
       "      <td>0</td>\n",
       "    </tr>\n",
       "    <tr>\n",
       "      <th>Hips</th>\n",
       "      <td>0</td>\n",
       "      <td>0</td>\n",
       "      <td>0</td>\n",
       "    </tr>\n",
       "    <tr>\n",
       "      <th>ArmLength</th>\n",
       "      <td>0</td>\n",
       "      <td>0</td>\n",
       "      <td>0</td>\n",
       "    </tr>\n",
       "    <tr>\n",
       "      <th>ShoulderToWaist</th>\n",
       "      <td>0</td>\n",
       "      <td>0</td>\n",
       "      <td>0</td>\n",
       "    </tr>\n",
       "    <tr>\n",
       "      <th>WaistToKnee</th>\n",
       "      <td>0</td>\n",
       "      <td>0</td>\n",
       "      <td>0</td>\n",
       "    </tr>\n",
       "    <tr>\n",
       "      <th>LegLength</th>\n",
       "      <td>0</td>\n",
       "      <td>0</td>\n",
       "      <td>0</td>\n",
       "    </tr>\n",
       "    <tr>\n",
       "      <th>TotalHeight</th>\n",
       "      <td>0</td>\n",
       "      <td>0</td>\n",
       "      <td>0</td>\n",
       "    </tr>\n",
       "  </tbody>\n",
       "</table>\n",
       "</div>"
      ],
      "text/plain": [
       "                   null_count  nan_count  empty_count\n",
       "Gender                      0          0            0\n",
       "Age                         0          0            0\n",
       "HeadCircumference           0          0            0\n",
       "ShoulderWidth               0          0            0\n",
       "ChestWidth                  0          0            0\n",
       "Belly                       0          0            0\n",
       "Waist                       0          0            0\n",
       "Hips                        0          0            0\n",
       "ArmLength                   0          0            0\n",
       "ShoulderToWaist             0          0            0\n",
       "WaistToKnee                 0          0            0\n",
       "LegLength                   0          0            0\n",
       "TotalHeight                 0          0            0"
      ]
     },
     "execution_count": 8,
     "metadata": {},
     "output_type": "execute_result"
    }
   ],
   "source": [
    "count_missing_value(data2)"
   ]
  },
  {
   "cell_type": "markdown",
   "metadata": {},
   "source": [
    "The empty value has been removed from the data.\n"
   ]
  },
  {
   "cell_type": "code",
   "execution_count": 9,
   "metadata": {},
   "outputs": [
    {
     "data": {
      "text/plain": [
       "1.0    391\n",
       "2.0    324\n",
       "Name: Gender, dtype: int64"
      ]
     },
     "execution_count": 9,
     "metadata": {},
     "output_type": "execute_result"
    }
   ],
   "source": [
    "data2['Gender'].value_counts()"
   ]
  },
  {
   "cell_type": "code",
   "execution_count": 10,
   "metadata": {},
   "outputs": [
    {
     "data": {
      "text/html": [
       "<div>\n",
       "<style scoped>\n",
       "    .dataframe tbody tr th:only-of-type {\n",
       "        vertical-align: middle;\n",
       "    }\n",
       "\n",
       "    .dataframe tbody tr th {\n",
       "        vertical-align: top;\n",
       "    }\n",
       "\n",
       "    .dataframe thead th {\n",
       "        text-align: right;\n",
       "    }\n",
       "</style>\n",
       "<table border=\"1\" class=\"dataframe\">\n",
       "  <thead>\n",
       "    <tr style=\"text-align: right;\">\n",
       "      <th></th>\n",
       "      <th>count</th>\n",
       "      <th>mean</th>\n",
       "      <th>std</th>\n",
       "      <th>min</th>\n",
       "      <th>25%</th>\n",
       "      <th>50%</th>\n",
       "      <th>75%</th>\n",
       "      <th>max</th>\n",
       "    </tr>\n",
       "  </thead>\n",
       "  <tbody>\n",
       "    <tr>\n",
       "      <th>Gender</th>\n",
       "      <td>715.0</td>\n",
       "      <td>1.453147</td>\n",
       "      <td>0.498148</td>\n",
       "      <td>1.0</td>\n",
       "      <td>1.0</td>\n",
       "      <td>1.0</td>\n",
       "      <td>2.0</td>\n",
       "      <td>2.0</td>\n",
       "    </tr>\n",
       "    <tr>\n",
       "      <th>Age</th>\n",
       "      <td>715.0</td>\n",
       "      <td>15.349650</td>\n",
       "      <td>11.837401</td>\n",
       "      <td>1.0</td>\n",
       "      <td>7.0</td>\n",
       "      <td>11.0</td>\n",
       "      <td>21.0</td>\n",
       "      <td>68.0</td>\n",
       "    </tr>\n",
       "    <tr>\n",
       "      <th>HeadCircumference</th>\n",
       "      <td>715.0</td>\n",
       "      <td>20.574825</td>\n",
       "      <td>3.745912</td>\n",
       "      <td>5.0</td>\n",
       "      <td>19.0</td>\n",
       "      <td>20.0</td>\n",
       "      <td>22.0</td>\n",
       "      <td>80.0</td>\n",
       "    </tr>\n",
       "    <tr>\n",
       "      <th>ShoulderWidth</th>\n",
       "      <td>715.0</td>\n",
       "      <td>14.318881</td>\n",
       "      <td>4.765259</td>\n",
       "      <td>4.0</td>\n",
       "      <td>11.0</td>\n",
       "      <td>14.0</td>\n",
       "      <td>18.0</td>\n",
       "      <td>87.0</td>\n",
       "    </tr>\n",
       "    <tr>\n",
       "      <th>ChestWidth</th>\n",
       "      <td>715.0</td>\n",
       "      <td>14.574825</td>\n",
       "      <td>5.316686</td>\n",
       "      <td>6.0</td>\n",
       "      <td>11.0</td>\n",
       "      <td>13.0</td>\n",
       "      <td>17.0</td>\n",
       "      <td>38.0</td>\n",
       "    </tr>\n",
       "    <tr>\n",
       "      <th>Belly</th>\n",
       "      <td>715.0</td>\n",
       "      <td>20.198601</td>\n",
       "      <td>10.140042</td>\n",
       "      <td>5.0</td>\n",
       "      <td>15.0</td>\n",
       "      <td>20.0</td>\n",
       "      <td>23.0</td>\n",
       "      <td>213.0</td>\n",
       "    </tr>\n",
       "    <tr>\n",
       "      <th>Waist</th>\n",
       "      <td>715.0</td>\n",
       "      <td>19.258741</td>\n",
       "      <td>8.775055</td>\n",
       "      <td>2.0</td>\n",
       "      <td>12.0</td>\n",
       "      <td>20.0</td>\n",
       "      <td>23.0</td>\n",
       "      <td>91.0</td>\n",
       "    </tr>\n",
       "    <tr>\n",
       "      <th>Hips</th>\n",
       "      <td>715.0</td>\n",
       "      <td>19.390210</td>\n",
       "      <td>8.745718</td>\n",
       "      <td>7.0</td>\n",
       "      <td>12.0</td>\n",
       "      <td>18.0</td>\n",
       "      <td>24.0</td>\n",
       "      <td>63.0</td>\n",
       "    </tr>\n",
       "    <tr>\n",
       "      <th>ArmLength</th>\n",
       "      <td>715.0</td>\n",
       "      <td>18.812587</td>\n",
       "      <td>5.379035</td>\n",
       "      <td>6.0</td>\n",
       "      <td>16.0</td>\n",
       "      <td>19.0</td>\n",
       "      <td>22.0</td>\n",
       "      <td>66.0</td>\n",
       "    </tr>\n",
       "    <tr>\n",
       "      <th>ShoulderToWaist</th>\n",
       "      <td>715.0</td>\n",
       "      <td>17.906294</td>\n",
       "      <td>5.381096</td>\n",
       "      <td>1.0</td>\n",
       "      <td>13.0</td>\n",
       "      <td>18.0</td>\n",
       "      <td>22.0</td>\n",
       "      <td>39.0</td>\n",
       "    </tr>\n",
       "    <tr>\n",
       "      <th>WaistToKnee</th>\n",
       "      <td>715.0</td>\n",
       "      <td>16.562238</td>\n",
       "      <td>5.207727</td>\n",
       "      <td>4.0</td>\n",
       "      <td>13.0</td>\n",
       "      <td>16.0</td>\n",
       "      <td>20.0</td>\n",
       "      <td>45.0</td>\n",
       "    </tr>\n",
       "    <tr>\n",
       "      <th>LegLength</th>\n",
       "      <td>715.0</td>\n",
       "      <td>26.836364</td>\n",
       "      <td>7.931239</td>\n",
       "      <td>9.0</td>\n",
       "      <td>21.0</td>\n",
       "      <td>26.0</td>\n",
       "      <td>32.0</td>\n",
       "      <td>50.0</td>\n",
       "    </tr>\n",
       "    <tr>\n",
       "      <th>TotalHeight</th>\n",
       "      <td>715.0</td>\n",
       "      <td>48.124476</td>\n",
       "      <td>12.164254</td>\n",
       "      <td>19.0</td>\n",
       "      <td>40.0</td>\n",
       "      <td>48.0</td>\n",
       "      <td>55.0</td>\n",
       "      <td>89.0</td>\n",
       "    </tr>\n",
       "  </tbody>\n",
       "</table>\n",
       "</div>"
      ],
      "text/plain": [
       "                   count       mean        std   min   25%   50%   75%    max\n",
       "Gender             715.0   1.453147   0.498148   1.0   1.0   1.0   2.0    2.0\n",
       "Age                715.0  15.349650  11.837401   1.0   7.0  11.0  21.0   68.0\n",
       "HeadCircumference  715.0  20.574825   3.745912   5.0  19.0  20.0  22.0   80.0\n",
       "ShoulderWidth      715.0  14.318881   4.765259   4.0  11.0  14.0  18.0   87.0\n",
       "ChestWidth         715.0  14.574825   5.316686   6.0  11.0  13.0  17.0   38.0\n",
       "Belly              715.0  20.198601  10.140042   5.0  15.0  20.0  23.0  213.0\n",
       "Waist              715.0  19.258741   8.775055   2.0  12.0  20.0  23.0   91.0\n",
       "Hips               715.0  19.390210   8.745718   7.0  12.0  18.0  24.0   63.0\n",
       "ArmLength          715.0  18.812587   5.379035   6.0  16.0  19.0  22.0   66.0\n",
       "ShoulderToWaist    715.0  17.906294   5.381096   1.0  13.0  18.0  22.0   39.0\n",
       "WaistToKnee        715.0  16.562238   5.207727   4.0  13.0  16.0  20.0   45.0\n",
       "LegLength          715.0  26.836364   7.931239   9.0  21.0  26.0  32.0   50.0\n",
       "TotalHeight        715.0  48.124476  12.164254  19.0  40.0  48.0  55.0   89.0"
      ]
     },
     "execution_count": 10,
     "metadata": {},
     "output_type": "execute_result"
    }
   ],
   "source": [
    "data2.describe().T"
   ]
  },
  {
   "cell_type": "markdown",
   "metadata": {},
   "source": [
    "## DATA VISUALISATION"
   ]
  },
  {
   "cell_type": "markdown",
   "metadata": {},
   "source": [
    "## PLOT 1"
   ]
  },
  {
   "cell_type": "code",
   "execution_count": 11,
   "metadata": {},
   "outputs": [
    {
     "data": {
      "image/png": "[encoded data removed]",
      "text/plain": [
       "<Figure size 720x576 with 1 Axes>"
      ]
     },
     "metadata": {},
     "output_type": "display_data"
    }
   ],
   "source": [
    "label = ['male', 'female']\n",
    "fig= plt.subplots(figsize=(10,8))\n",
    "plt.pie(data2.Gender.value_counts(), labels= label, shadow= True)\n",
    "plt.show()"
   ]
  },
  {
   "cell_type": "markdown",
   "metadata": {},
   "source": [
    "### Making variables required for plotting. "
   ]
  },
  {
   "cell_type": "code",
   "execution_count": 12,
   "metadata": {},
   "outputs": [],
   "source": [
    "female= data2[data2['Gender']==2]\n",
    "male= data2[data2['Gender']==1]"
   ]
  },
  {
   "cell_type": "code",
   "execution_count": 13,
   "metadata": {},
   "outputs": [],
   "source": [
    "f_ShoulderWidth_mean = round(female['ShoulderWidth'].mean(), 0)\n",
    "m_ShoulderWidth_mean = round(male['ShoulderWidth'].mean(), 0)\n",
    "\n",
    "f_TotalHeight_mean = round(female['TotalHeight'].mean(), 0)\n",
    "m_TotalHeight_mean = round(male['TotalHeight'].mean(), 0)\n",
    "\n",
    "f_above_avg_height = female[female['TotalHeight']>=f_TotalHeight_mean].TotalHeight\n",
    "f_below_avg_height = female[female['TotalHeight']<f_TotalHeight_mean].TotalHeight\n",
    "m_above_avg_height = male[male['TotalHeight']>=m_TotalHeight_mean].TotalHeight\n",
    "m_below_avg_height = male[male['TotalHeight']<m_TotalHeight_mean].TotalHeight"
   ]
  },
  {
   "cell_type": "markdown",
   "metadata": {},
   "source": [
    "## PLOT 2"
   ]
  },
  {
   "cell_type": "code",
   "execution_count": 100,
   "metadata": {},
   "outputs": [
    {
     "data": {
      "image/png": "[encoded data removed]",
      "text/plain": [
       "<Figure size 432x288 with 1 Axes>"
      ]
     },
     "metadata": {},
     "output_type": "display_data"
    }
   ],
   "source": [
    "plt.bar('Female', f_ShoulderWidth_mean,bottom=None)\n",
    "plt.bar('Male', m_ShoulderWidth_mean)\n",
    "plt.title('MALE/FEMALE AVERAGE SHOULDER WIDTH')\n",
    "plt.ylim(0,16)\n",
    "plt.show()"
   ]
  },
  {
   "cell_type": "markdown",
   "metadata": {},
   "source": [
    "## PLOT 3"
   ]
  },
  {
   "cell_type": "code",
   "execution_count": 15,
   "metadata": {
    "scrolled": true
   },
   "outputs": [
    {
     "data": {
      "image/png": "[encoded data removed]",
      "text/plain": [
       "<Figure size 720x288 with 2 Axes>"
      ]
     },
     "metadata": {},
     "output_type": "display_data"
    }
   ],
   "source": [
    "fig,(ax1,ax2)= plt.subplots(1,2, figsize=(10,4))\n",
    "\n",
    "sns.distplot(f_above_avg_height, label='Above Average', kde= False, bins= 25, ax=ax1,color='r')\n",
    "sns.distplot(f_below_avg_height, label='Below Average', kde= False, bins= 25, ax=ax1,color='b')\n",
    "sns.distplot(m_above_avg_height, label='Above Average', kde= False, bins= 25, ax= ax2, color='r')\n",
    "sns.distplot(m_below_avg_height, label='Below Average', kde= False, bins= 25, ax= ax2, color='b')\n",
    "\n",
    "ax1.set(title='ABOVE/BELOW AVERAGE HEIGHT OF FEMALES', xlabel= \"Height\")\n",
    "ax1.legend()\n",
    "ax2.set(title='ABOVE/BELOW AVERAGE HEIGHT OF MALES', xlabel= \"Height\")\n",
    "ax2.legend()\n",
    "\n",
    "plt.tight_layout()\n",
    "plt.show()"
   ]
  },
  {
   "cell_type": "markdown",
   "metadata": {},
   "source": [
    "From the above distribution plot, we can interpret that more than 50% of the Males & Females have ABOVE average height. \n",
    "\n",
    "One thing to note is that, maximum number of Males/Females are in the VICINITY OF THE AVERAGE HEIGHT."
   ]
  },
  {
   "cell_type": "markdown",
   "metadata": {},
   "source": [
    "## PLOT 4"
   ]
  },
  {
   "cell_type": "code",
   "execution_count": 200,
   "metadata": {
    "scrolled": true
   },
   "outputs": [
    {
     "data": {
      "image/png": "[encoded data removed]",
      "text/plain": [
       "<Figure size 432x360 with 1 Axes>"
      ]
     },
     "metadata": {},
     "output_type": "display_data"
    }
   ],
   "source": [
    "gender=['Male' if i==1.0 else 'Female' for i in data2.Gender]\n",
    "\n",
    "fig,ax= plt.subplots(figsize=(6,5))\n",
    "ax= sns.violinplot(x=gender, y=data2['Belly '] , palette=\"Set2\", inner=\"quartile\", hue=gender)\n",
    "\n",
    "ax.set(title= 'GENDER vs BELLY VIOLET PLOT', xlabel='Gender', ylabel='Belly(in)')\n",
    "plt.tight_layout()\n",
    "plt.show()"
   ]
  },
  {
   "cell_type": "markdown",
   "metadata": {},
   "source": [
    "Here, we can see the belly of Males is majorly between 13-35, and same goes for Females too. \n",
    "\n",
    "But, we can notice a 200+inch belly, which is clearly an outlier."
   ]
  },
  {
   "cell_type": "code",
   "execution_count": 98,
   "metadata": {},
   "outputs": [
    {
     "data": {
      "image/png": "[encoded data removed]",
      "text/plain": [
       "<Figure size 864x720 with 2 Axes>"
      ]
     },
     "metadata": {},
     "output_type": "display_data"
    }
   ],
   "source": [
    "plt.figure(figsize=(12, 10))\n",
    "sns.heatmap(data2.corr().abs(), annot= True)\n",
    "plt.show()"
   ]
  },
  {
   "cell_type": "code",
   "execution_count": 99,
   "metadata": {},
   "outputs": [],
   "source": [
    "x= data2.drop(['Gender', 'Age', 'Belly '], axis=1)\n",
    "y=data2['Age']"
   ]
  },
  {
   "cell_type": "code",
   "execution_count": 102,
   "metadata": {},
   "outputs": [],
   "source": [
    "from sklearn.model_selection import train_test_split\n",
    "x_train,x_test,y_train,y_test= train_test_split(x,y, test_size= 0.3, random_state=0)"
   ]
  },
  {
   "cell_type": "markdown",
   "metadata": {},
   "source": [
    "Removing the less correlated columns to make a cleaner dataset for a precise prediction."
   ]
  },
  {
   "cell_type": "markdown",
   "metadata": {},
   "source": [
    "## REGRESSOR vs CLASSIFIER"
   ]
  },
  {
   "cell_type": "markdown",
   "metadata": {},
   "source": [
    "### a) KNN"
   ]
  },
  {
   "cell_type": "code",
   "execution_count": 125,
   "metadata": {},
   "outputs": [],
   "source": [
    "knn_scores= []\n",
    "\n",
    "from sklearn.neighbors import KNeighborsRegressor\n",
    "from sklearn.neighbors import KNeighborsClassifier\n",
    "from sklearn.metrics import accuracy_score, mean_squared_error\n",
    "\n",
    "for i in np.arange(1,15,3):\n",
    "    \n",
    "    #knn classifier\n",
    "    c_knn = KNeighborsClassifier(n_neighbors=i, weights='distance')\n",
    "    c_train_knn = c_knn.fit(x_train, y_train)\n",
    "    c_knn_ypred = c_train_knn.predict(x_test)\n",
    "    c_accuracy = accuracy_score(y_test, c_knn_ypred)\n",
    "    c_accuracy_percentage = c_accuracy * 100 \n",
    "    \n",
    "    #knn regressor\n",
    "    r_knn= KNeighborsRegressor(n_neighbors=i)\n",
    "    r_train_knn= r_knn.fit(x_train, y_train)\n",
    "    r_knn_ypred = r_train_knn.predict(x_test)\n",
    "    r_accuracy= mean_squared_error(y_test, r_knn_ypred)\n",
    "    \n",
    "    knn_scores.append(pd.Series({'n_neighbour' : i,\n",
    "                                'knn regressor' : r_accuracy,\n",
    "                                'knn classifier' : c_accuracy_percentage\n",
    "                                }))\n",
    "knn_score = pd.concat(knn_scores, axis=1).T.set_index('n_neighbour')    "
   ]
  },
  {
   "cell_type": "code",
   "execution_count": 126,
   "metadata": {},
   "outputs": [
    {
     "data": {
      "text/html": [
       "<div>\n",
       "<style scoped>\n",
       "    .dataframe tbody tr th:only-of-type {\n",
       "        vertical-align: middle;\n",
       "    }\n",
       "\n",
       "    .dataframe tbody tr th {\n",
       "        vertical-align: top;\n",
       "    }\n",
       "\n",
       "    .dataframe thead th {\n",
       "        text-align: right;\n",
       "    }\n",
       "</style>\n",
       "<table border=\"1\" class=\"dataframe\">\n",
       "  <thead>\n",
       "    <tr style=\"text-align: right;\">\n",
       "      <th></th>\n",
       "      <th>knn regressor</th>\n",
       "      <th>knn classifier</th>\n",
       "    </tr>\n",
       "    <tr>\n",
       "      <th>n_neighbour</th>\n",
       "      <th></th>\n",
       "      <th></th>\n",
       "    </tr>\n",
       "  </thead>\n",
       "  <tbody>\n",
       "    <tr>\n",
       "      <th>1.0</th>\n",
       "      <td>51.065116</td>\n",
       "      <td>27.906977</td>\n",
       "    </tr>\n",
       "    <tr>\n",
       "      <th>4.0</th>\n",
       "      <td>44.645930</td>\n",
       "      <td>28.837209</td>\n",
       "    </tr>\n",
       "    <tr>\n",
       "      <th>7.0</th>\n",
       "      <td>39.557380</td>\n",
       "      <td>27.906977</td>\n",
       "    </tr>\n",
       "    <tr>\n",
       "      <th>10.0</th>\n",
       "      <td>37.370837</td>\n",
       "      <td>28.372093</td>\n",
       "    </tr>\n",
       "    <tr>\n",
       "      <th>13.0</th>\n",
       "      <td>38.765570</td>\n",
       "      <td>26.046512</td>\n",
       "    </tr>\n",
       "  </tbody>\n",
       "</table>\n",
       "</div>"
      ],
      "text/plain": [
       "             knn regressor  knn classifier\n",
       "n_neighbour                               \n",
       "1.0              51.065116       27.906977\n",
       "4.0              44.645930       28.837209\n",
       "7.0              39.557380       27.906977\n",
       "10.0             37.370837       28.372093\n",
       "13.0             38.765570       26.046512"
      ]
     },
     "execution_count": 126,
     "metadata": {},
     "output_type": "execute_result"
    }
   ],
   "source": [
    "knn_score"
   ]
  },
  {
   "cell_type": "markdown",
   "metadata": {},
   "source": [
    "Neither of them gives a satisfactory results.\n",
    "\n",
    "But, Regressor performs better than Classifier."
   ]
  },
  {
   "cell_type": "code",
   "execution_count": 120,
   "metadata": {},
   "outputs": [
    {
     "data": {
      "image/png": "[encoded data removed]",
      "text/plain": [
       "<Figure size 720x864 with 1 Axes>"
      ]
     },
     "metadata": {},
     "output_type": "display_data"
    }
   ],
   "source": [
    "fig, ax = plt.subplots(figsize=(10,12))\n",
    "ax.plot(knn_score.index, knn_score['knn regressor'], label= 'Knn Regressor', marker= '^', ls= '--')\n",
    "ax.plot(knn_score.index, knn_score['knn classifier'], label= 'Knn Classifier', marker= '*', ls= '--')\n",
    "ax.legend()\n",
    "ax.set(title='ELBOW CURVE' , xlim=(0,15), ylim=(0,55), xlabel= 'Neighbours', ylabel= 'Accuracy score')\n",
    "plt.show()"
   ]
  },
  {
   "cell_type": "markdown",
   "metadata": {},
   "source": [
    "### b) RANDOM FOREST "
   ]
  },
  {
   "cell_type": "code",
   "execution_count": 188,
   "metadata": {},
   "outputs": [],
   "source": [
    "rf_scores= []\n",
    "\n",
    "from sklearn.ensemble import RandomForestRegressor\n",
    "from sklearn.ensemble import RandomForestClassifier\n",
    "\n",
    "for i in [1,10,25,50,75,90,100,150,250,300,400,500]:\n",
    "    for j in np.arange(1,5,1):\n",
    "        #random forest regressor\n",
    "        r_rf= RandomForestRegressor(n_estimators=i, criterion='mse', max_depth=j)\n",
    "        r_rf_train = r_rf.fit(x_train,y_train)\n",
    "        r_rf_ypred = r_rf_train.predict(x_test)\n",
    "        r_rf_score = round(mean_squared_error(y_test, r_rf_ypred),2)\n",
    "\n",
    "        #random forest classifier\n",
    "        c_rf= RandomForestClassifier(n_estimators=i, criterion='entropy', max_depth=j)\n",
    "        c_rf_train = c_rf.fit(x_train,y_train)\n",
    "        c_rf_ypred = c_rf_train.predict(x_test)\n",
    "        c_rf_score = accuracy_score(y_test, c_rf_ypred)\n",
    "        c_rf_score_percentage = round(c_rf_score*100,2)\n",
    "\n",
    "        rf_scores.append(pd.Series({'n_estimator' : i,\n",
    "                                    'max_depth' : j,\n",
    "                                    'rf_regression_score': r_rf_score,\n",
    "                                    'rf classification score': c_rf_score_percentage\n",
    "                                   }))"
   ]
  },
  {
   "cell_type": "code",
   "execution_count": 189,
   "metadata": {
    "scrolled": false
   },
   "outputs": [
    {
     "data": {
      "text/html": [
       "<div>\n",
       "<style scoped>\n",
       "    .dataframe tbody tr th:only-of-type {\n",
       "        vertical-align: middle;\n",
       "    }\n",
       "\n",
       "    .dataframe tbody tr th {\n",
       "        vertical-align: top;\n",
       "    }\n",
       "\n",
       "    .dataframe thead th {\n",
       "        text-align: right;\n",
       "    }\n",
       "</style>\n",
       "<table border=\"1\" class=\"dataframe\">\n",
       "  <thead>\n",
       "    <tr style=\"text-align: right;\">\n",
       "      <th></th>\n",
       "      <th></th>\n",
       "      <th>rf_regression_score</th>\n",
       "      <th>rf classification score</th>\n",
       "    </tr>\n",
       "    <tr>\n",
       "      <th>n_estimator</th>\n",
       "      <th>max_depth</th>\n",
       "      <th></th>\n",
       "      <th></th>\n",
       "    </tr>\n",
       "  </thead>\n",
       "  <tbody>\n",
       "    <tr>\n",
       "      <th rowspan=\"4\" valign=\"top\">1.0</th>\n",
       "      <th>1.0</th>\n",
       "      <td>72.08</td>\n",
       "      <td>7.91</td>\n",
       "    </tr>\n",
       "    <tr>\n",
       "      <th>2.0</th>\n",
       "      <td>63.46</td>\n",
       "      <td>10.70</td>\n",
       "    </tr>\n",
       "    <tr>\n",
       "      <th>3.0</th>\n",
       "      <td>83.98</td>\n",
       "      <td>13.02</td>\n",
       "    </tr>\n",
       "    <tr>\n",
       "      <th>4.0</th>\n",
       "      <td>72.90</td>\n",
       "      <td>11.16</td>\n",
       "    </tr>\n",
       "    <tr>\n",
       "      <th rowspan=\"4\" valign=\"top\">10.0</th>\n",
       "      <th>1.0</th>\n",
       "      <td>66.53</td>\n",
       "      <td>7.91</td>\n",
       "    </tr>\n",
       "    <tr>\n",
       "      <th>2.0</th>\n",
       "      <td>52.59</td>\n",
       "      <td>11.63</td>\n",
       "    </tr>\n",
       "    <tr>\n",
       "      <th>3.0</th>\n",
       "      <td>48.60</td>\n",
       "      <td>18.60</td>\n",
       "    </tr>\n",
       "    <tr>\n",
       "      <th>4.0</th>\n",
       "      <td>51.03</td>\n",
       "      <td>20.47</td>\n",
       "    </tr>\n",
       "    <tr>\n",
       "      <th rowspan=\"4\" valign=\"top\">25.0</th>\n",
       "      <th>1.0</th>\n",
       "      <td>64.20</td>\n",
       "      <td>8.37</td>\n",
       "    </tr>\n",
       "    <tr>\n",
       "      <th>2.0</th>\n",
       "      <td>50.49</td>\n",
       "      <td>10.70</td>\n",
       "    </tr>\n",
       "    <tr>\n",
       "      <th>3.0</th>\n",
       "      <td>46.47</td>\n",
       "      <td>16.28</td>\n",
       "    </tr>\n",
       "    <tr>\n",
       "      <th>4.0</th>\n",
       "      <td>43.92</td>\n",
       "      <td>25.12</td>\n",
       "    </tr>\n",
       "    <tr>\n",
       "      <th rowspan=\"4\" valign=\"top\">50.0</th>\n",
       "      <th>1.0</th>\n",
       "      <td>64.60</td>\n",
       "      <td>6.05</td>\n",
       "    </tr>\n",
       "    <tr>\n",
       "      <th>2.0</th>\n",
       "      <td>51.75</td>\n",
       "      <td>11.16</td>\n",
       "    </tr>\n",
       "    <tr>\n",
       "      <th>3.0</th>\n",
       "      <td>45.75</td>\n",
       "      <td>19.07</td>\n",
       "    </tr>\n",
       "    <tr>\n",
       "      <th>4.0</th>\n",
       "      <td>47.65</td>\n",
       "      <td>21.86</td>\n",
       "    </tr>\n",
       "    <tr>\n",
       "      <th rowspan=\"4\" valign=\"top\">75.0</th>\n",
       "      <th>1.0</th>\n",
       "      <td>64.40</td>\n",
       "      <td>9.30</td>\n",
       "    </tr>\n",
       "    <tr>\n",
       "      <th>2.0</th>\n",
       "      <td>52.76</td>\n",
       "      <td>10.70</td>\n",
       "    </tr>\n",
       "    <tr>\n",
       "      <th>3.0</th>\n",
       "      <td>46.57</td>\n",
       "      <td>19.07</td>\n",
       "    </tr>\n",
       "    <tr>\n",
       "      <th>4.0</th>\n",
       "      <td>44.05</td>\n",
       "      <td>22.79</td>\n",
       "    </tr>\n",
       "    <tr>\n",
       "      <th rowspan=\"4\" valign=\"top\">90.0</th>\n",
       "      <th>1.0</th>\n",
       "      <td>64.67</td>\n",
       "      <td>6.05</td>\n",
       "    </tr>\n",
       "    <tr>\n",
       "      <th>2.0</th>\n",
       "      <td>51.24</td>\n",
       "      <td>10.23</td>\n",
       "    </tr>\n",
       "    <tr>\n",
       "      <th>3.0</th>\n",
       "      <td>46.86</td>\n",
       "      <td>20.47</td>\n",
       "    </tr>\n",
       "    <tr>\n",
       "      <th>4.0</th>\n",
       "      <td>45.03</td>\n",
       "      <td>23.26</td>\n",
       "    </tr>\n",
       "    <tr>\n",
       "      <th rowspan=\"4\" valign=\"top\">100.0</th>\n",
       "      <th>1.0</th>\n",
       "      <td>63.15</td>\n",
       "      <td>8.37</td>\n",
       "    </tr>\n",
       "    <tr>\n",
       "      <th>2.0</th>\n",
       "      <td>52.04</td>\n",
       "      <td>11.16</td>\n",
       "    </tr>\n",
       "    <tr>\n",
       "      <th>3.0</th>\n",
       "      <td>49.33</td>\n",
       "      <td>16.74</td>\n",
       "    </tr>\n",
       "    <tr>\n",
       "      <th>4.0</th>\n",
       "      <td>43.95</td>\n",
       "      <td>21.40</td>\n",
       "    </tr>\n",
       "    <tr>\n",
       "      <th rowspan=\"4\" valign=\"top\">150.0</th>\n",
       "      <th>1.0</th>\n",
       "      <td>63.89</td>\n",
       "      <td>8.37</td>\n",
       "    </tr>\n",
       "    <tr>\n",
       "      <th>2.0</th>\n",
       "      <td>52.09</td>\n",
       "      <td>12.09</td>\n",
       "    </tr>\n",
       "    <tr>\n",
       "      <th>3.0</th>\n",
       "      <td>47.38</td>\n",
       "      <td>17.21</td>\n",
       "    </tr>\n",
       "    <tr>\n",
       "      <th>4.0</th>\n",
       "      <td>43.03</td>\n",
       "      <td>20.00</td>\n",
       "    </tr>\n",
       "    <tr>\n",
       "      <th rowspan=\"4\" valign=\"top\">250.0</th>\n",
       "      <th>1.0</th>\n",
       "      <td>65.12</td>\n",
       "      <td>8.37</td>\n",
       "    </tr>\n",
       "    <tr>\n",
       "      <th>2.0</th>\n",
       "      <td>51.37</td>\n",
       "      <td>11.16</td>\n",
       "    </tr>\n",
       "    <tr>\n",
       "      <th>3.0</th>\n",
       "      <td>45.98</td>\n",
       "      <td>19.53</td>\n",
       "    </tr>\n",
       "    <tr>\n",
       "      <th>4.0</th>\n",
       "      <td>43.19</td>\n",
       "      <td>22.33</td>\n",
       "    </tr>\n",
       "    <tr>\n",
       "      <th rowspan=\"4\" valign=\"top\">300.0</th>\n",
       "      <th>1.0</th>\n",
       "      <td>64.95</td>\n",
       "      <td>8.37</td>\n",
       "    </tr>\n",
       "    <tr>\n",
       "      <th>2.0</th>\n",
       "      <td>51.08</td>\n",
       "      <td>11.63</td>\n",
       "    </tr>\n",
       "    <tr>\n",
       "      <th>3.0</th>\n",
       "      <td>45.64</td>\n",
       "      <td>17.67</td>\n",
       "    </tr>\n",
       "    <tr>\n",
       "      <th>4.0</th>\n",
       "      <td>44.19</td>\n",
       "      <td>20.00</td>\n",
       "    </tr>\n",
       "    <tr>\n",
       "      <th rowspan=\"4\" valign=\"top\">400.0</th>\n",
       "      <th>1.0</th>\n",
       "      <td>64.35</td>\n",
       "      <td>8.37</td>\n",
       "    </tr>\n",
       "    <tr>\n",
       "      <th>2.0</th>\n",
       "      <td>50.90</td>\n",
       "      <td>11.16</td>\n",
       "    </tr>\n",
       "    <tr>\n",
       "      <th>3.0</th>\n",
       "      <td>46.07</td>\n",
       "      <td>16.28</td>\n",
       "    </tr>\n",
       "    <tr>\n",
       "      <th>4.0</th>\n",
       "      <td>44.13</td>\n",
       "      <td>24.19</td>\n",
       "    </tr>\n",
       "    <tr>\n",
       "      <th rowspan=\"4\" valign=\"top\">500.0</th>\n",
       "      <th>1.0</th>\n",
       "      <td>65.11</td>\n",
       "      <td>8.37</td>\n",
       "    </tr>\n",
       "    <tr>\n",
       "      <th>2.0</th>\n",
       "      <td>51.50</td>\n",
       "      <td>11.16</td>\n",
       "    </tr>\n",
       "    <tr>\n",
       "      <th>3.0</th>\n",
       "      <td>46.22</td>\n",
       "      <td>19.07</td>\n",
       "    </tr>\n",
       "    <tr>\n",
       "      <th>4.0</th>\n",
       "      <td>44.25</td>\n",
       "      <td>21.86</td>\n",
       "    </tr>\n",
       "  </tbody>\n",
       "</table>\n",
       "</div>"
      ],
      "text/plain": [
       "                       rf_regression_score  rf classification score\n",
       "n_estimator max_depth                                              \n",
       "1.0         1.0                      72.08                     7.91\n",
       "            2.0                      63.46                    10.70\n",
       "            3.0                      83.98                    13.02\n",
       "            4.0                      72.90                    11.16\n",
       "10.0        1.0                      66.53                     7.91\n",
       "            2.0                      52.59                    11.63\n",
       "            3.0                      48.60                    18.60\n",
       "            4.0                      51.03                    20.47\n",
       "25.0        1.0                      64.20                     8.37\n",
       "            2.0                      50.49                    10.70\n",
       "            3.0                      46.47                    16.28\n",
       "            4.0                      43.92                    25.12\n",
       "50.0        1.0                      64.60                     6.05\n",
       "            2.0                      51.75                    11.16\n",
       "            3.0                      45.75                    19.07\n",
       "            4.0                      47.65                    21.86\n",
       "75.0        1.0                      64.40                     9.30\n",
       "            2.0                      52.76                    10.70\n",
       "            3.0                      46.57                    19.07\n",
       "            4.0                      44.05                    22.79\n",
       "90.0        1.0                      64.67                     6.05\n",
       "            2.0                      51.24                    10.23\n",
       "            3.0                      46.86                    20.47\n",
       "            4.0                      45.03                    23.26\n",
       "100.0       1.0                      63.15                     8.37\n",
       "            2.0                      52.04                    11.16\n",
       "            3.0                      49.33                    16.74\n",
       "            4.0                      43.95                    21.40\n",
       "150.0       1.0                      63.89                     8.37\n",
       "            2.0                      52.09                    12.09\n",
       "            3.0                      47.38                    17.21\n",
       "            4.0                      43.03                    20.00\n",
       "250.0       1.0                      65.12                     8.37\n",
       "            2.0                      51.37                    11.16\n",
       "            3.0                      45.98                    19.53\n",
       "            4.0                      43.19                    22.33\n",
       "300.0       1.0                      64.95                     8.37\n",
       "            2.0                      51.08                    11.63\n",
       "            3.0                      45.64                    17.67\n",
       "            4.0                      44.19                    20.00\n",
       "400.0       1.0                      64.35                     8.37\n",
       "            2.0                      50.90                    11.16\n",
       "            3.0                      46.07                    16.28\n",
       "            4.0                      44.13                    24.19\n",
       "500.0       1.0                      65.11                     8.37\n",
       "            2.0                      51.50                    11.16\n",
       "            3.0                      46.22                    19.07\n",
       "            4.0                      44.25                    21.86"
      ]
     },
     "execution_count": 189,
     "metadata": {},
     "output_type": "execute_result"
    }
   ],
   "source": [
    "rf_score = pd.concat(rf_scores, axis=1).T.set_index(['n_estimator','max_depth'])\n",
    "rf_score"
   ]
  },
  {
   "cell_type": "code",
   "execution_count": 199,
   "metadata": {},
   "outputs": [
    {
     "name": "stdout",
     "output_type": "stream",
     "text": [
      "BEST RESULT OF knn regressor :  51.07\n",
      "BEST RESULT OF knn classifier :  28.84\n",
      "BEST RESULT OF rf_regression_score :  83.98\n",
      "BEST RESULT OF rf classification score :  25.12\n"
     ]
    }
   ],
   "source": [
    "print('BEST RESULT OF knn regressor : ',round(knn_score['knn regressor'].max(),2))\n",
    "print('BEST RESULT OF knn classifier : ',round(knn_score['knn classifier'].max(),2))\n",
    "print('BEST RESULT OF rf_regression_score : ', rf_score['rf_regression_score'].max())\n",
    "print('BEST RESULT OF rf classification score : ', rf_score['rf classification score'].max())"
   ]
  },
  {
   "cell_type": "markdown",
   "metadata": {},
   "source": [
    "Here, we can see RF REGRESSOR is far better than RF CLASSIFIER."
   ]
  },
  {
   "cell_type": "markdown",
   "metadata": {},
   "source": [
    "To get the best parameters, we can use GridSearchCV because it has in-built functions for it.\n",
    "\n",
    "If you have any other options to find the best parameters please let me know. I'll really appreciate it!"
   ]
  },
  {
   "cell_type": "markdown",
   "metadata": {},
   "source": [
    "# CONCLUSION"
   ]
  },
  {
   "cell_type": "markdown",
   "metadata": {},
   "source": [
    "Among all the 4 algorithms used in this code, RANDOM FOREST REGRESSOR gives the best results with an accuracy of 83.98."
   ]
  },
  {
   "cell_type": "markdown",
   "metadata": {},
   "source": [
    "# IF YOU GAINED ANYTHING FROM THE CODE, DO UPVOTE IT!\n",
    "\n",
    "# THANKS!"
   ]
  }
 ],
 "metadata": {
  "kernelspec": {
   "display_name": "Python 3",
   "language": "python",
   "name": "python3"
  },
  "language_info": {
   "codemirror_mode": {
    "name": "ipython",
    "version": 3
   },
   "file_extension": ".py",
   "mimetype": "text/x-python",
   "name": "python",
   "nbconvert_exporter": "python",
   "pygments_lexer": "ipython3",
   "version": "3.6.5"
  }
 },
 "nbformat": 4,
 "nbformat_minor": 2
}
